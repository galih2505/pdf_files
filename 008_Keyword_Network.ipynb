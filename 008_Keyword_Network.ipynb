{
  "nbformat": 4,
  "nbformat_minor": 0,
  "metadata": {
    "colab": {
      "name": "008_Keyword Network",
      "provenance": [],
      "collapsed_sections": [],
      "authorship_tag": "ABX9TyN+km+u348st9x5r/fy/YR1",
      "include_colab_link": true
    },
    "kernelspec": {
      "name": "python3",
      "display_name": "Python 3"
    }
  },
  "cells": [
    {
      "cell_type": "markdown",
      "metadata": {
        "id": "view-in-github",
        "colab_type": "text"
      },
      "source": [
        "<a href=\"https://colab.research.google.com/github/dhitology/pdf/blob/master/008_Keyword_Network.ipynb\" target=\"_parent\"><img src=\"https://colab.research.google.com/assets/colab-badge.svg\" alt=\"Open In Colab\"/></a>"
      ]
    },
    {
      "cell_type": "markdown",
      "metadata": {
        "id": "jIgD8kh_McZZ",
        "colab_type": "text"
      },
      "source": [
        "*Muhammad Apriandito Arya Saputra - 2020*\n",
        "\n",
        "\n",
        "---\n",
        "\n"
      ]
    },
    {
      "cell_type": "markdown",
      "metadata": {
        "id": "bGzu9IpDkJ77",
        "colab_type": "text"
      },
      "source": [
        "# Keyword Network"
      ]
    },
    {
      "cell_type": "markdown",
      "metadata": {
        "id": "0ZVtS7qbkVyF",
        "colab_type": "text"
      },
      "source": [
        "## Mengambil Data dari Github"
      ]
    },
    {
      "cell_type": "code",
      "metadata": {
        "id": "2snblE32usWD",
        "colab_type": "code",
        "colab": {}
      },
      "source": [
        "# Clone Library and Data from Github\n",
        "! git clone https://github.com/dhitology/pdf"
      ],
      "execution_count": 0,
      "outputs": []
    },
    {
      "cell_type": "code",
      "metadata": {
        "id": "qWFQs2puu0-Z",
        "colab_type": "code",
        "colab": {}
      },
      "source": [
        "# Current Working Directory\n",
        "import os\n",
        "os.getcwd()"
      ],
      "execution_count": 0,
      "outputs": []
    },
    {
      "cell_type": "code",
      "metadata": {
        "id": "e952E7gZu8v1",
        "colab_type": "code",
        "colab": {}
      },
      "source": [
        "# Set Working Directory\n",
        "os.chdir('pdf/journal/sage')"
      ],
      "execution_count": 0,
      "outputs": []
    },
    {
      "cell_type": "code",
      "metadata": {
        "id": "Wlk-iC-gu9v4",
        "colab_type": "code",
        "colab": {}
      },
      "source": [
        "# Lokasi working directory saat ini\n",
        "wd = os.getcwd()\n",
        "print(wd)"
      ],
      "execution_count": 0,
      "outputs": []
    },
    {
      "cell_type": "markdown",
      "metadata": {
        "id": "tPJZW2F6bUv4",
        "colab_type": "text"
      },
      "source": [
        "## Mengambil Informasi Author dari Beberapa Dokumen PDF dengan PyPDF2"
      ]
    },
    {
      "cell_type": "code",
      "metadata": {
        "id": "K5pM4gH6u-6t",
        "colab_type": "code",
        "colab": {}
      },
      "source": [
        "# Install Library\n",
        "! pip install PyPDF2"
      ],
      "execution_count": 0,
      "outputs": []
    },
    {
      "cell_type": "code",
      "metadata": {
        "id": "68TbzQ-qvFXy",
        "colab_type": "code",
        "colab": {}
      },
      "source": [
        "# Import Library\n",
        "import PyPDF2"
      ],
      "execution_count": 0,
      "outputs": []
    },
    {
      "cell_type": "code",
      "metadata": {
        "id": "9R_4iSQvvGvT",
        "colab_type": "code",
        "colab": {}
      },
      "source": [
        "# Mengambil Nama Dokumen PDF Dalam direktori\n",
        "pdfname = []\n",
        "for filename in os.listdir(\".\"):\n",
        "  if filename.endswith(\".pdf\"):\n",
        "    pdfname.append(filename)\n",
        "\n",
        "# Print \n",
        "print(pdfname)"
      ],
      "execution_count": 0,
      "outputs": []
    },
    {
      "cell_type": "code",
      "metadata": {
        "id": "NWxP4zJSvHcD",
        "colab_type": "code",
        "colab": {}
      },
      "source": [
        "# Membuat list kosong\n",
        "keyword =[]"
      ],
      "execution_count": 0,
      "outputs": []
    },
    {
      "cell_type": "code",
      "metadata": {
        "id": "dJLRP-9jvItw",
        "colab_type": "code",
        "colab": {}
      },
      "source": [
        "# Looping untuk mengambil penulis dari setiap dokumen\n",
        "for filename in pdfname:\n",
        "  pdfFileObj = open(filename,\"rb\")\n",
        "  journal = PyPDF2.PdfFileReader(pdfFileObj)\n",
        "  journal_info =  journal.getDocumentInfo()\n",
        "  keyword.append(journal_info['/Keywords'])"
      ],
      "execution_count": 0,
      "outputs": []
    },
    {
      "cell_type": "code",
      "metadata": {
        "id": "WGi8U4VnvLCK",
        "colab_type": "code",
        "colab": {}
      },
      "source": [
        "# Print Keyword\n",
        "print(keyword)"
      ],
      "execution_count": 0,
      "outputs": []
    },
    {
      "cell_type": "markdown",
      "metadata": {
        "id": "68RekXtq50le",
        "colab_type": "text"
      },
      "source": [
        "## Pre-Processing"
      ]
    },
    {
      "cell_type": "code",
      "metadata": {
        "id": "BeEXaieQx9XL",
        "colab_type": "code",
        "colab": {}
      },
      "source": [
        "# Import Re\n",
        "import re\n",
        "\n",
        "# Hapus kata oleh dengan fungsi re.sub()\n",
        "daftar_keyword = [re.sub(r\",\", \" \", i) for i in keyword]\n",
        "daftar_keyword = [re.sub(r\";\", \" \", i) for i in daftar_keyword]"
      ],
      "execution_count": 0,
      "outputs": []
    },
    {
      "cell_type": "code",
      "metadata": {
        "id": "BpS3YYKLyEyF",
        "colab_type": "code",
        "colab": {}
      },
      "source": [
        "daftar_keyword"
      ],
      "execution_count": 0,
      "outputs": []
    },
    {
      "cell_type": "code",
      "metadata": {
        "id": "VTrgigiRxYiA",
        "colab_type": "code",
        "colab": {}
      },
      "source": [
        "# Import Pandas\n",
        "import pandas as pd\n",
        "\n",
        "# Convert list diatas menjadi dataframe dengan nama df_team lalu print\n",
        "df_keyword = pd.DataFrame(daftar_keyword, columns= ['text'])\n",
        "df_keyword"
      ],
      "execution_count": 0,
      "outputs": []
    },
    {
      "cell_type": "code",
      "metadata": {
        "id": "HZHyQFRkxeoI",
        "colab_type": "code",
        "colab": {}
      },
      "source": [
        "# Select Text\n",
        "text = df_keyword['text']\n",
        "type(text)"
      ],
      "execution_count": 0,
      "outputs": []
    },
    {
      "cell_type": "code",
      "metadata": {
        "id": "DLTrAJMX2Arb",
        "colab_type": "code",
        "colab": {}
      },
      "source": [
        "# Convert ke lower Case\n",
        "text_lower = text.str.lower()"
      ],
      "execution_count": 0,
      "outputs": []
    },
    {
      "cell_type": "code",
      "metadata": {
        "id": "kSt4GNUgzQaK",
        "colab_type": "code",
        "colab": {}
      },
      "source": [
        "import nltk\n",
        "from nltk import bigrams\n",
        "from nltk.tokenize import word_tokenize\n",
        "from random import seed\n",
        "\n",
        "nltk.download('punkt')"
      ],
      "execution_count": 0,
      "outputs": []
    },
    {
      "cell_type": "code",
      "metadata": {
        "id": "HEvBFkFbzFiX",
        "colab_type": "code",
        "colab": {}
      },
      "source": [
        "# Tokenize\n",
        "text_data = [word_tokenize(i) for i in text_lower]\n",
        "print(text_data)"
      ],
      "execution_count": 0,
      "outputs": []
    },
    {
      "cell_type": "markdown",
      "metadata": {
        "id": "Bymn0OnU6Bo0",
        "colab_type": "text"
      },
      "source": [
        "## Membuat Text Matrix"
      ]
    },
    {
      "cell_type": "code",
      "metadata": {
        "id": "gyE6hrDa11xI",
        "colab_type": "code",
        "colab": {}
      },
      "source": [
        "# Fungsi untuk membuat Co-occureness\n",
        "def generate_co_occurrence_matrix(corpus):\n",
        "    vocab = set(corpus)\n",
        "    vocab = list(vocab)\n",
        "    vocab_index = {word: i for i, word in enumerate(vocab)}\n",
        " \n",
        "    # Create bigrams from all words in corpus\n",
        "    bi_grams = list(bigrams(corpus))\n",
        " \n",
        "    # Frequency distribution of bigrams ((word1, word2), num_occurrences)\n",
        "    bigram_freq = nltk.FreqDist(bi_grams).most_common(len(bi_grams))\n",
        " \n",
        "    # Initialise co-occurrence matrix\n",
        "    # co_occurrence_matrix[current][previous]\n",
        "    co_occurrence_matrix = np.zeros((len(vocab), len(vocab)))\n",
        " \n",
        "    # Loop through the bigrams taking the current and previous word,\n",
        "    # and the number of occurrences of the bigram.\n",
        "    for bigram in bigram_freq:\n",
        "        current = bigram[0][1]\n",
        "        previous = bigram[0][0]\n",
        "        count = bigram[1]\n",
        "        pos_current = vocab_index[current]\n",
        "        pos_previous = vocab_index[previous]\n",
        "        co_occurrence_matrix[pos_current][pos_previous] = count\n",
        "    co_occurrence_matrix = np.matrix(co_occurrence_matrix)\n",
        " \n",
        "    # return the matrix and the index\n",
        "    return co_occurrence_matrix, vocab_index"
      ],
      "execution_count": 0,
      "outputs": []
    },
    {
      "cell_type": "code",
      "metadata": {
        "id": "UIBxR27S15Gl",
        "colab_type": "code",
        "colab": {}
      },
      "source": [
        "# Create one list using many lists\n",
        "import itertools\n",
        "import numpy as np\n",
        "\n",
        "data = list(itertools.chain.from_iterable(text_data))\n",
        "matrix, vocab_index = generate_co_occurrence_matrix(data)\n",
        "\n",
        "data_matrix = pd.DataFrame(matrix, index=vocab_index,\n",
        "                             columns=vocab_index)"
      ],
      "execution_count": 0,
      "outputs": []
    },
    {
      "cell_type": "code",
      "metadata": {
        "id": "yB_6aj0X2mjb",
        "colab_type": "code",
        "colab": {}
      },
      "source": [
        "# Menampilkan 5 Baris pertama matrix\n",
        "data_matrix.head()"
      ],
      "execution_count": 0,
      "outputs": []
    },
    {
      "cell_type": "code",
      "metadata": {
        "id": "nO82_7VX23zR",
        "colab_type": "code",
        "colab": {}
      },
      "source": [
        "# Save matrix as CSV, so we can analyze it Gephi\n",
        "data_matrix.to_csv('matrix.csv', encoding='utf-8')"
      ],
      "execution_count": 0,
      "outputs": []
    },
    {
      "cell_type": "markdown",
      "metadata": {
        "id": "zTafbjmy6Zak",
        "colab_type": "text"
      },
      "source": [
        "## Visualisasi Network"
      ]
    },
    {
      "cell_type": "code",
      "metadata": {
        "id": "SydLdHsl5A01",
        "colab_type": "code",
        "colab": {}
      },
      "source": [
        "# Import NetworkX\n",
        "import networkx as nx\n",
        "G = nx.from_pandas_adjacency(data_matrix)"
      ],
      "execution_count": 0,
      "outputs": []
    },
    {
      "cell_type": "code",
      "metadata": {
        "id": "mmxIuKkW5BdG",
        "colab_type": "code",
        "colab": {}
      },
      "source": [
        "# Convert ke Edgelist\n",
        "edgelist = nx.to_pandas_edgelist(G)\n",
        "edgelist.head()"
      ],
      "execution_count": 0,
      "outputs": []
    },
    {
      "cell_type": "code",
      "metadata": {
        "id": "k8C9kjEE5b6f",
        "colab_type": "code",
        "colab": {}
      },
      "source": [
        "# Visualisasi Network\n",
        "import matplotlib.pyplot as plt\n",
        "plt.figure(figsize=(10,10))\n",
        "nx.draw(G, with_labels=True, \n",
        "        node_color='skyblue', node_size=1200, \n",
        "        arrowstyle='->',arrowsize=20, edge_color='r',\n",
        "        font_size=9,\n",
        "        pos=nx.kamada_kawai_layout(G))"
      ],
      "execution_count": 0,
      "outputs": []
    }
  ]
}