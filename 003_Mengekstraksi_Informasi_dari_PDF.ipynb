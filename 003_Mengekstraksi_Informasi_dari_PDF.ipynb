{
  "nbformat": 4,
  "nbformat_minor": 0,
  "metadata": {
    "colab": {
      "name": "003_Mengekstraksi Informasi dari PDF",
      "provenance": [],
      "collapsed_sections": [],
      "authorship_tag": "ABX9TyN9Wmg7FBsF1ZfxoLxe2ae1",
      "include_colab_link": true
    },
    "kernelspec": {
      "name": "python3",
      "display_name": "Python 3"
    }
  },
  "cells": [
    {
      "cell_type": "markdown",
      "metadata": {
        "id": "view-in-github",
        "colab_type": "text"
      },
      "source": [
        "<a href=\"https://colab.research.google.com/github/dhitology/pdf/blob/master/003_Mengekstraksi_Informasi_dari_PDF.ipynb\" target=\"_parent\"><img src=\"https://colab.research.google.com/assets/colab-badge.svg\" alt=\"Open In Colab\"/></a>"
      ]
    },
    {
      "cell_type": "markdown",
      "metadata": {
        "id": "jIgD8kh_McZZ",
        "colab_type": "text"
      },
      "source": [
        "*Muhammad Apriandito Arya Saputra - 2020*\n",
        "\n",
        "\n",
        "---\n",
        "\n"
      ]
    },
    {
      "cell_type": "markdown",
      "metadata": {
        "id": "ccICMLmpfb9o",
        "colab_type": "text"
      },
      "source": [
        "# Mengekstraksi Informasi dari PDF"
      ]
    },
    {
      "cell_type": "markdown",
      "metadata": {
        "id": "WR__Hl8jQR3o",
        "colab_type": "text"
      },
      "source": [
        "## Import File"
      ]
    },
    {
      "cell_type": "code",
      "metadata": {
        "id": "D9xVa8nFPa2g",
        "colab_type": "code",
        "colab": {}
      },
      "source": [
        "# Clone Library and Data from Github\n",
        "! git clone https://github.com/dhitology/pdf"
      ],
      "execution_count": 0,
      "outputs": []
    },
    {
      "cell_type": "code",
      "metadata": {
        "id": "EgX2HpqkaVtJ",
        "colab_type": "code",
        "colab": {}
      },
      "source": [
        "# Current Working Directory\n",
        "import os\n",
        "os.getcwd()"
      ],
      "execution_count": 0,
      "outputs": []
    },
    {
      "cell_type": "code",
      "metadata": {
        "id": "6KwF1vboPifx",
        "colab_type": "code",
        "colab": {}
      },
      "source": [
        "# Set Working Directory\n",
        "os.chdir('pdf/journal')\n",
        "os.getcwd()"
      ],
      "execution_count": 0,
      "outputs": []
    },
    {
      "cell_type": "markdown",
      "metadata": {
        "id": "c4_LSU6ZQXow",
        "colab_type": "text"
      },
      "source": [
        "## PyPDF2"
      ]
    },
    {
      "cell_type": "markdown",
      "metadata": {
        "id": "VkkLGBBXVoKz",
        "colab_type": "text"
      },
      "source": [
        "Dokumentasi PyPDF2 = https://pythonhosted.org/PyPDF2/index.html"
      ]
    },
    {
      "cell_type": "code",
      "metadata": {
        "id": "SkD_KRMDfUJC",
        "colab_type": "code",
        "colab": {}
      },
      "source": [
        "# Install Library\n",
        "! pip install PyPDF2"
      ],
      "execution_count": 0,
      "outputs": []
    },
    {
      "cell_type": "code",
      "metadata": {
        "id": "AmRWqLWiWMBk",
        "colab_type": "code",
        "colab": {}
      },
      "source": [
        "# Import Library\n",
        "import PyPDF2 as pypdf"
      ],
      "execution_count": 0,
      "outputs": []
    },
    {
      "cell_type": "code",
      "metadata": {
        "id": "mRJPF9LuvtNC",
        "colab_type": "code",
        "colab": {}
      },
      "source": [
        "# Open As Object\n",
        "journal_object = open('emerald/emerald_2.pdf', 'rb')"
      ],
      "execution_count": 0,
      "outputs": []
    },
    {
      "cell_type": "code",
      "metadata": {
        "id": "eYknpMvjQznj",
        "colab_type": "code",
        "colab": {}
      },
      "source": [
        "# Read PDF \n",
        "journal = pypdf.PdfFileReader(journal_object)"
      ],
      "execution_count": 0,
      "outputs": []
    },
    {
      "cell_type": "code",
      "metadata": {
        "id": "ZT5XC9qiRHeh",
        "colab_type": "code",
        "colab": {}
      },
      "source": [
        "# Melihat jumlah halaman\n",
        "journal.numPages"
      ],
      "execution_count": 0,
      "outputs": []
    },
    {
      "cell_type": "code",
      "metadata": {
        "id": "iyoe_SN0UM7r",
        "colab_type": "code",
        "colab": {}
      },
      "source": [
        "# Mengambil Informasi Dokumen\n",
        "journal_info =  journal.getDocumentInfo()\n",
        "journal_info"
      ],
      "execution_count": 0,
      "outputs": []
    },
    {
      "cell_type": "code",
      "metadata": {
        "id": "Toma01jwGECG",
        "colab_type": "code",
        "colab": {}
      },
      "source": [
        "# Mengambil Informasi Author\n",
        "journal_info.author"
      ],
      "execution_count": 0,
      "outputs": []
    },
    {
      "cell_type": "code",
      "metadata": {
        "id": "SGlV2fFeRbaM",
        "colab_type": "code",
        "colab": {}
      },
      "source": [
        "# Memilih Halaman\n",
        "page_journal = journal.getPage(1)"
      ],
      "execution_count": 0,
      "outputs": []
    },
    {
      "cell_type": "code",
      "metadata": {
        "id": "TQeYXe5XRhWv",
        "colab_type": "code",
        "colab": {}
      },
      "source": [
        "# Mengektraksi Text\n",
        "text_journal = page_journal.extractText()\n",
        "print(text_journal)"
      ],
      "execution_count": 0,
      "outputs": []
    },
    {
      "cell_type": "markdown",
      "metadata": {
        "id": "FRnKtq13WjcL",
        "colab_type": "text"
      },
      "source": [
        "**Praktek**"
      ]
    },
    {
      "cell_type": "code",
      "metadata": {
        "id": "k0HhqiroWp_p",
        "colab_type": "code",
        "colab": {}
      },
      "source": [
        "# Buat Codingan untuk mengambil informasi author dari Jurnal Elsevier"
      ],
      "execution_count": 0,
      "outputs": []
    },
    {
      "cell_type": "code",
      "metadata": {
        "id": "Fvl6isL-XL0E",
        "colab_type": "code",
        "colab": {}
      },
      "source": [
        "# Buat Codingan untuk mengambil informasi keyword dari Jurnal SAGE"
      ],
      "execution_count": 0,
      "outputs": []
    },
    {
      "cell_type": "markdown",
      "metadata": {
        "id": "qyYy1fhDGSe2",
        "colab_type": "text"
      },
      "source": [
        "## Pdfminer.six"
      ]
    },
    {
      "cell_type": "code",
      "metadata": {
        "id": "igRtXlUyGQwv",
        "colab_type": "code",
        "colab": {}
      },
      "source": [
        "# Install PDF Miner Six\n",
        "! pip install pdfminer.six"
      ],
      "execution_count": 0,
      "outputs": []
    },
    {
      "cell_type": "code",
      "metadata": {
        "id": "d7t2xJ1cJsa_",
        "colab_type": "code",
        "colab": {}
      },
      "source": [
        "# Import\n",
        "import pdfminer\n",
        "print(pdfminer.__version__) "
      ],
      "execution_count": 0,
      "outputs": []
    },
    {
      "cell_type": "code",
      "metadata": {
        "id": "URfVgU35G8S0",
        "colab_type": "code",
        "colab": {}
      },
      "source": [
        "from io import StringIO\n",
        "\n",
        "from pdfminer.converter import TextConverter\n",
        "from pdfminer.layout import LAParams\n",
        "from pdfminer.pdfdocument import PDFDocument\n",
        "from pdfminer.pdfinterp import PDFResourceManager, PDFPageInterpreter\n",
        "from pdfminer.pdfpage import PDFPage\n",
        "from pdfminer.pdfparser import PDFParser\n",
        "\n",
        "output_string = StringIO()\n",
        "with open('emerald/emerald_2.pdf', 'rb') as in_file:\n",
        "    parser = PDFParser(in_file)\n",
        "    doc = PDFDocument(parser)\n",
        "    rsrcmgr = PDFResourceManager()\n",
        "    device = TextConverter(rsrcmgr, output_string, laparams=LAParams())\n",
        "    interpreter = PDFPageInterpreter(rsrcmgr, device)\n",
        "    for page in PDFPage.create_pages(doc):\n",
        "        interpreter.process_page(page)\n",
        "\n",
        "text = output_string.getvalue()"
      ],
      "execution_count": 0,
      "outputs": []
    },
    {
      "cell_type": "code",
      "metadata": {
        "id": "DrFa3Zb9KEQ7",
        "colab_type": "code",
        "colab": {}
      },
      "source": [
        "print(text)"
      ],
      "execution_count": 0,
      "outputs": []
    },
    {
      "cell_type": "markdown",
      "metadata": {
        "colab_type": "text",
        "id": "FaJt0_ifW4ze"
      },
      "source": [
        "**Praktek**"
      ]
    },
    {
      "cell_type": "code",
      "metadata": {
        "colab_type": "code",
        "id": "L4z3LjcgW4zh",
        "colab": {}
      },
      "source": [
        "# Buat Codingan untuk mengambil informasi text dari Jurnal Elsevier"
      ],
      "execution_count": 0,
      "outputs": []
    },
    {
      "cell_type": "code",
      "metadata": {
        "id": "lLlmJ5CSXVRK",
        "colab_type": "code",
        "colab": {}
      },
      "source": [
        "# Buat Codingan untuk mengambil informasi text dari Jurnal SAGE"
      ],
      "execution_count": 0,
      "outputs": []
    }
  ]
}