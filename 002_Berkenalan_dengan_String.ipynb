{
  "nbformat": 4,
  "nbformat_minor": 0,
  "metadata": {
    "colab": {
      "name": "002_Berkenalan dengan String",
      "provenance": [],
      "collapsed_sections": [],
      "authorship_tag": "ABX9TyMmN07ZaPXhliKxRoO71gAY",
      "include_colab_link": true
    },
    "kernelspec": {
      "name": "python3",
      "display_name": "Python 3"
    }
  },
  "cells": [
    {
      "cell_type": "markdown",
      "metadata": {
        "id": "view-in-github",
        "colab_type": "text"
      },
      "source": [
        "<a href=\"https://colab.research.google.com/github/dhitology/pdf/blob/master/002_Berkenalan_dengan_String.ipynb\" target=\"_parent\"><img src=\"https://colab.research.google.com/assets/colab-badge.svg\" alt=\"Open In Colab\"/></a>"
      ]
    },
    {
      "cell_type": "markdown",
      "metadata": {
        "id": "jIgD8kh_McZZ",
        "colab_type": "text"
      },
      "source": [
        "*Muhammad Apriandito Arya Saputra - 2020*\n",
        "\n",
        "\n",
        "---\n",
        "\n"
      ]
    },
    {
      "cell_type": "markdown",
      "metadata": {
        "id": "ccICMLmpfb9o",
        "colab_type": "text"
      },
      "source": [
        "# Berkenalan dengan String"
      ]
    },
    {
      "cell_type": "markdown",
      "metadata": {
        "id": "V0u0B5tDiGkb",
        "colab_type": "text"
      },
      "source": [
        "## String"
      ]
    },
    {
      "cell_type": "markdown",
      "metadata": {
        "id": "jIFL-bOCiJw8",
        "colab_type": "text"
      },
      "source": [
        "### Apa itu string?"
      ]
    },
    {
      "cell_type": "code",
      "metadata": {
        "id": "jCugEz4chTY1",
        "colab_type": "code",
        "colab": {}
      },
      "source": [
        "# String\n",
        "string = \"text\""
      ],
      "execution_count": 0,
      "outputs": []
    },
    {
      "cell_type": "code",
      "metadata": {
        "id": "9ncchnxehc-g",
        "colab_type": "code",
        "colab": {}
      },
      "source": [
        "type(string)"
      ],
      "execution_count": 0,
      "outputs": []
    },
    {
      "cell_type": "markdown",
      "metadata": {
        "id": "2lmkjfV9ilJW",
        "colab_type": "text"
      },
      "source": [
        "### Operasi pada string"
      ]
    },
    {
      "cell_type": "code",
      "metadata": {
        "id": "kE8ailU8hm1E",
        "colab_type": "code",
        "colab": {}
      },
      "source": [
        "# Penambahan/Penggabungan String\n",
        "text_1 = \"Aku suka dia \"\n",
        "text_2 = \"Aku sadar diri \"\n",
        "text_3 = text_1 + text_2\n",
        "\n",
        "# Print\n",
        "print(text_3)"
      ],
      "execution_count": 0,
      "outputs": []
    },
    {
      "cell_type": "code",
      "metadata": {
        "id": "dI0FtbiukPm1",
        "colab_type": "code",
        "colab": {}
      },
      "source": [
        "# Melihat panjang sebuah string\n",
        "len(text_1)"
      ],
      "execution_count": 0,
      "outputs": []
    },
    {
      "cell_type": "markdown",
      "metadata": {
        "id": "VhbZUGXRi1cy",
        "colab_type": "text"
      },
      "source": [
        "### String List"
      ]
    },
    {
      "cell_type": "code",
      "metadata": {
        "id": "WHgSf6ZQi4BD",
        "colab_type": "code",
        "colab": {}
      },
      "source": [
        "# Membuat list yang berisi string\n",
        "text_list = [\"Aku suka dia\", \"Aku sadar diri\"]"
      ],
      "execution_count": 0,
      "outputs": []
    },
    {
      "cell_type": "code",
      "metadata": {
        "id": "s4e0YqLgi05m",
        "colab_type": "code",
        "colab": {}
      },
      "source": [
        "# Subset list\n",
        "text_pertama = text_list[0]\n",
        "print(text_pertama)"
      ],
      "execution_count": 0,
      "outputs": []
    },
    {
      "cell_type": "markdown",
      "metadata": {
        "id": "V3NGsFR8j3pZ",
        "colab_type": "text"
      },
      "source": [
        "## String Manimpulation"
      ]
    },
    {
      "cell_type": "code",
      "metadata": {
        "id": "X3jpZp7YkbR_",
        "colab_type": "code",
        "colab": {}
      },
      "source": [
        "# Subsetting\n",
        "print(text_1[0:3])"
      ],
      "execution_count": 0,
      "outputs": []
    },
    {
      "cell_type": "code",
      "metadata": {
        "id": "oDlGmOvep_1Z",
        "colab_type": "code",
        "colab": {}
      },
      "source": [
        "# Lowercase, Uppercase, Capitalize\n",
        "print(text_1.lower())\n",
        "print(text_1.upper())\n",
        "print(text_1.capitalize())"
      ],
      "execution_count": 0,
      "outputs": []
    },
    {
      "cell_type": "code",
      "metadata": {
        "id": "_MZRDM6vpv_t",
        "colab_type": "code",
        "colab": {}
      },
      "source": [
        "# Split \n",
        "text_split = text_1.split(sep = \" \")\n",
        "print(text_split)"
      ],
      "execution_count": 0,
      "outputs": []
    },
    {
      "cell_type": "code",
      "metadata": {
        "id": "7XBcGpJArIdD",
        "colab_type": "code",
        "colab": {}
      },
      "source": [
        "# Join\n",
        "text_join = \" \".join(text_split)\n",
        "print(text_join)"
      ],
      "execution_count": 0,
      "outputs": []
    },
    {
      "cell_type": "markdown",
      "metadata": {
        "id": "cUn645iuTmjF",
        "colab_type": "text"
      },
      "source": [
        "**Praktek**"
      ]
    },
    {
      "cell_type": "markdown",
      "metadata": {
        "id": "D__RhotmslcR",
        "colab_type": "text"
      },
      "source": [
        "Manimpulasi string abstrak hingga mengkasilkan output berikut:\n",
        "\n",
        "\n",
        "\n",
        "```\n",
        "['the movie industry is a highly competitive  industry with a lot of new movies are queued to be released each  year',\n",
        " ' movie making is subject to potential profits or loss in the  magnitude of billion of dollars making this industry very risky',\n",
        " '']\n",
        "```\n",
        "\n"
      ]
    },
    {
      "cell_type": "code",
      "metadata": {
        "id": "aepljGP3micP",
        "colab_type": "code",
        "colab": {}
      },
      "source": [
        "# String\n",
        "abstrak = \"The movie industry is a highly competitive \\nindustry with a lot of new movies are queued to be released each \\nyear. Movie making is subject to potential profits or loss in the \\nmagnitude of billion of dollars making this industry very risky.\""
      ],
      "execution_count": 0,
      "outputs": []
    },
    {
      "cell_type": "code",
      "metadata": {
        "id": "AKBbjBt-s9YN",
        "colab_type": "code",
        "colab": {}
      },
      "source": [
        "# String Manimpulation\n"
      ],
      "execution_count": 0,
      "outputs": []
    },
    {
      "cell_type": "code",
      "metadata": {
        "id": "ULjHTJuptpHD",
        "colab_type": "code",
        "colab": {}
      },
      "source": [
        "# Merubah semua isi list ke lowercase\n"
      ],
      "execution_count": 0,
      "outputs": []
    },
    {
      "cell_type": "code",
      "metadata": {
        "id": "bvo3cpONt22m",
        "colab_type": "code",
        "colab": {}
      },
      "source": [
        "# Print\n"
      ],
      "execution_count": 0,
      "outputs": []
    }
  ]
}