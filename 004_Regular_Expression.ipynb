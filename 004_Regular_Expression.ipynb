{
  "nbformat": 4,
  "nbformat_minor": 0,
  "metadata": {
    "colab": {
      "name": "004_Regular Expression",
      "provenance": [],
      "collapsed_sections": [],
      "authorship_tag": "ABX9TyOJXkr2N7QYswjbsUcauBuQ",
      "include_colab_link": true
    },
    "kernelspec": {
      "name": "python3",
      "display_name": "Python 3"
    }
  },
  "cells": [
    {
      "cell_type": "markdown",
      "metadata": {
        "id": "view-in-github",
        "colab_type": "text"
      },
      "source": [
        "<a href=\"https://colab.research.google.com/github/dhitology/pdf/blob/master/004_Regular_Expression.ipynb\" target=\"_parent\"><img src=\"https://colab.research.google.com/assets/colab-badge.svg\" alt=\"Open In Colab\"/></a>"
      ]
    },
    {
      "cell_type": "markdown",
      "metadata": {
        "id": "jIgD8kh_McZZ",
        "colab_type": "text"
      },
      "source": [
        "*Muhammad Apriandito Arya Saputra - 2020*\n",
        "\n",
        "\n",
        "---\n",
        "\n"
      ]
    },
    {
      "cell_type": "markdown",
      "metadata": {
        "id": "VxZQNvTSH5fl",
        "colab_type": "text"
      },
      "source": [
        "# Regular Expression"
      ]
    },
    {
      "cell_type": "markdown",
      "metadata": {
        "id": "ydrNLhjvLiaF",
        "colab_type": "text"
      },
      "source": [
        "Penjelasan terkait Regular Ekspression: https://developers.google.com/edu/python/regular-expressions"
      ]
    },
    {
      "cell_type": "code",
      "metadata": {
        "id": "T-LmtKp5Sjb1",
        "colab_type": "code",
        "colab": {}
      },
      "source": [
        "import re"
      ],
      "execution_count": 0,
      "outputs": []
    },
    {
      "cell_type": "code",
      "metadata": {
        "id": "QRaw_bYAIsWx",
        "colab_type": "code",
        "colab": {}
      },
      "source": [
        "text = \"The rain in Spain\""
      ],
      "execution_count": 0,
      "outputs": []
    },
    {
      "cell_type": "markdown",
      "metadata": {
        "id": "QwS1vSlxPamE",
        "colab_type": "text"
      },
      "source": [
        "## Fungsi Regex"
      ]
    },
    {
      "cell_type": "markdown",
      "metadata": {
        "id": "-arOE3tvILLC",
        "colab_type": "text"
      },
      "source": [
        "### re.findall()"
      ]
    },
    {
      "cell_type": "code",
      "metadata": {
        "id": "NrDC3nRzH4Tj",
        "colab_type": "code",
        "colab": {}
      },
      "source": [
        "findall = re.findall(\"Spain\", text)\n",
        "print(findall)"
      ],
      "execution_count": 0,
      "outputs": []
    },
    {
      "cell_type": "markdown",
      "metadata": {
        "id": "-OUi_96IIQ3W",
        "colab_type": "text"
      },
      "source": [
        "### re.search()"
      ]
    },
    {
      "cell_type": "code",
      "metadata": {
        "id": "AQBJOVMVISWO",
        "colab_type": "code",
        "colab": {}
      },
      "source": [
        "search = re.search(\"Spain\", txt)\n",
        "print(search)"
      ],
      "execution_count": 0,
      "outputs": []
    },
    {
      "cell_type": "markdown",
      "metadata": {
        "id": "ou6ev6ZNIU81",
        "colab_type": "text"
      },
      "source": [
        "### re.split()"
      ]
    },
    {
      "cell_type": "code",
      "metadata": {
        "id": "dqKpJuyIIUIz",
        "colab_type": "code",
        "colab": {}
      },
      "source": [
        "split = re.split(\"\\s\", txt)\n",
        "print(split)"
      ],
      "execution_count": 0,
      "outputs": []
    },
    {
      "cell_type": "markdown",
      "metadata": {
        "id": "vhUSLYjaIS_o",
        "colab_type": "text"
      },
      "source": [
        "### re.sub()"
      ]
    },
    {
      "cell_type": "code",
      "metadata": {
        "id": "fPSelEm6IWTV",
        "colab_type": "code",
        "colab": {}
      },
      "source": [
        "sub = re.sub(\"\\s\", \"9\", txt)\n",
        "print(sub)"
      ],
      "execution_count": 0,
      "outputs": []
    },
    {
      "cell_type": "markdown",
      "metadata": {
        "id": "eK8hWYiYPia-",
        "colab_type": "text"
      },
      "source": [
        "## Contoh Penggunaan"
      ]
    },
    {
      "cell_type": "markdown",
      "metadata": {
        "id": "sTvy_qT7Plpx",
        "colab_type": "text"
      },
      "source": [
        "### Robot"
      ]
    },
    {
      "cell_type": "code",
      "metadata": {
        "id": "PtMdwqd6M2k0",
        "colab_type": "code",
        "colab": {}
      },
      "source": [
        "text_robot = '@robot9! @robot4& I have a good feeling that the show isgoing to be amazing! @robot9$ @robot7%'"
      ],
      "execution_count": 0,
      "outputs": []
    },
    {
      "cell_type": "code",
      "metadata": {
        "id": "dvqmMBt5NwY_",
        "colab_type": "code",
        "colab": {}
      },
      "source": [
        "# Identifikasi Pola\n",
        "regex_robot = r\"@robot\\d\\W\""
      ],
      "execution_count": 0,
      "outputs": []
    },
    {
      "cell_type": "code",
      "metadata": {
        "id": "MANqpYRRNbsV",
        "colab_type": "code",
        "colab": {}
      },
      "source": [
        "# Print semua kata yang sesuai dengan pola\n",
        "print(re.findall(regex_robot, text_robot))"
      ],
      "execution_count": 0,
      "outputs": []
    },
    {
      "cell_type": "markdown",
      "metadata": {
        "id": "KdoJBTMJPo9-",
        "colab_type": "text"
      },
      "source": [
        "### Mention"
      ]
    },
    {
      "cell_type": "code",
      "metadata": {
        "id": "IPEs3zsVOMF6",
        "colab_type": "code",
        "colab": {}
      },
      "source": [
        "text_mention = \"Unfortunately one of those moments wasn't a giant squid monster. User_mentions:2, likes: 9, number of retweets: 7\""
      ],
      "execution_count": 0,
      "outputs": []
    },
    {
      "cell_type": "code",
      "metadata": {
        "id": "1aSciPrhOaEk",
        "colab_type": "code",
        "colab": {}
      },
      "source": [
        "# Identifikasi Pola\n",
        "regex_mention = r\"User_mentions:\\d\""
      ],
      "execution_count": 0,
      "outputs": []
    },
    {
      "cell_type": "code",
      "metadata": {
        "id": "NtD2kyKKPGeV",
        "colab_type": "code",
        "colab": {}
      },
      "source": [
        "# Print kata yang mengandung pola\n",
        "print(re.findall(regex_mention, text_mention))"
      ],
      "execution_count": 0,
      "outputs": []
    },
    {
      "cell_type": "markdown",
      "metadata": {
        "id": "jBZTrCZ7SC66",
        "colab_type": "text"
      },
      "source": [
        "### Penulis"
      ]
    },
    {
      "cell_type": "code",
      "metadata": {
        "id": "gFDJ5-L2RGXu",
        "colab_type": "code",
        "colab": {}
      },
      "source": [
        "text_penulis = 'Berikut ini merupakan nama-nama penulis. Penulis 1: Muhammad Apriandito, Penulis 2: Dian Ramadhani, dan Penulis 3: Mohammad Rosidi.'"
      ],
      "execution_count": 0,
      "outputs": []
    },
    {
      "cell_type": "code",
      "metadata": {
        "id": "DgCBoISVQsxd",
        "colab_type": "code",
        "colab": {}
      },
      "source": [
        "regex_penulis = r\"Penulis\\s\\d\\:\\s\\w+\\s\\w+\""
      ],
      "execution_count": 0,
      "outputs": []
    },
    {
      "cell_type": "code",
      "metadata": {
        "id": "fLso_diqRBlO",
        "colab_type": "code",
        "colab": {}
      },
      "source": [
        "# Print kata yang mengandung pola\n",
        "print(re.findall(regex_penulis, text_penulis))"
      ],
      "execution_count": 0,
      "outputs": []
    },
    {
      "cell_type": "markdown",
      "metadata": {
        "id": "EOUsYMTBP2fB",
        "colab_type": "text"
      },
      "source": [
        "**Praktek**"
      ]
    },
    {
      "cell_type": "markdown",
      "metadata": {
        "id": "KPeexbsXZusX",
        "colab_type": "text"
      },
      "source": [
        "Ambil informasi penulis dari list kalimat_penulis"
      ]
    },
    {
      "cell_type": "code",
      "metadata": {
        "id": "dhczmNOBP48z",
        "colab_type": "code",
        "colab": {}
      },
      "source": [
        "# List Text\n",
        "kalimat_penulis = ['Buku ini ditulis oleh Muhammad Apriandito.', 'Novel ini ditulis oleh Dian Ramadhani.', 'Buku panduan ini ditulis oleh Mohammad Rosidi dan dipublikasikan di tahun 2020.']"
      ],
      "execution_count": 0,
      "outputs": []
    },
    {
      "cell_type": "code",
      "metadata": {
        "id": "iiUD1p--TRSO",
        "colab_type": "code",
        "colab": {}
      },
      "source": [
        "# Identifikasi pola\n",
        "regex_kalimat_penulis = r\"\""
      ],
      "execution_count": 0,
      "outputs": []
    },
    {
      "cell_type": "code",
      "metadata": {
        "id": "rLCrvCF6VXOM",
        "colab_type": "code",
        "colab": {}
      },
      "source": [
        "# Harus di join terlebih dulu\n",
        "kalimat_penulis_join = \n",
        "print(kalimat_penulis_join)"
      ],
      "execution_count": 0,
      "outputs": []
    },
    {
      "cell_type": "code",
      "metadata": {
        "id": "01WBwiZuSTiI",
        "colab_type": "code",
        "colab": {}
      },
      "source": [
        "# Masukkan ke fungsi findall()\n",
        "oleh_penulis = \n",
        "print(oleh_penulis)"
      ],
      "execution_count": 0,
      "outputs": []
    },
    {
      "cell_type": "code",
      "metadata": {
        "id": "1RNV0mteTc0j",
        "colab_type": "code",
        "colab": {}
      },
      "source": [
        "# Hapus kata oleh dengan fungsi re.sub()\n",
        "penulis = "
      ],
      "execution_count": 0,
      "outputs": []
    },
    {
      "cell_type": "code",
      "metadata": {
        "id": "Xdlf5sGgYNHC",
        "colab_type": "code",
        "colab": {}
      },
      "source": [
        "# Print Penulis\n",
        "print(penulis)"
      ],
      "execution_count": 0,
      "outputs": []
    }
  ]
}