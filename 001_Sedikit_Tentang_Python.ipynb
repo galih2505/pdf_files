{
  "nbformat": 4,
  "nbformat_minor": 0,
  "metadata": {
    "colab": {
      "name": "001_Sedikit Tentang Python",
      "provenance": [],
      "authorship_tag": "ABX9TyO3rszlm+KCVGLy+nF7xKrb",
      "include_colab_link": true
    },
    "kernelspec": {
      "name": "python3",
      "display_name": "Python 3"
    }
  },
  "cells": [
    {
      "cell_type": "markdown",
      "metadata": {
        "id": "view-in-github",
        "colab_type": "text"
      },
      "source": [
        "<a href=\"https://colab.research.google.com/github/dhitology/pdf/blob/master/001_Sedikit_Tentang_Python.ipynb\" target=\"_parent\"><img src=\"https://colab.research.google.com/assets/colab-badge.svg\" alt=\"Open In Colab\"/></a>"
      ]
    },
    {
      "cell_type": "markdown",
      "metadata": {
        "id": "jIgD8kh_McZZ",
        "colab_type": "text"
      },
      "source": [
        "*Muhammad Apriandito Arya Saputra - 2020*\n",
        "\n",
        "\n",
        "---\n",
        "\n"
      ]
    },
    {
      "cell_type": "markdown",
      "metadata": {
        "id": "FHSXGo8cKl8C",
        "colab_type": "text"
      },
      "source": [
        "# Sedikit Tentang Python"
      ]
    },
    {
      "cell_type": "markdown",
      "metadata": {
        "id": "2SVtDhRyXeJX",
        "colab_type": "text"
      },
      "source": [
        "Rekomendasi belajar Python: "
      ]
    },
    {
      "cell_type": "markdown",
      "metadata": {
        "id": "9NnaYfDGMqql",
        "colab_type": "text"
      },
      "source": [
        "## Tipe Data"
      ]
    },
    {
      "cell_type": "markdown",
      "metadata": {
        "id": "m25YGxDUKwcf",
        "colab_type": "text"
      },
      "source": [
        "Penjelasan mengenai tipe data di Python https://www.w3schools.com/python/python_datatypes.asp"
      ]
    },
    {
      "cell_type": "code",
      "metadata": {
        "id": "zXCaE0GAK5er",
        "colab_type": "code",
        "colab": {}
      },
      "source": [
        "# Tipe data String\n",
        "text = \"Hello World\"\n",
        "type(text)"
      ],
      "execution_count": 0,
      "outputs": []
    },
    {
      "cell_type": "code",
      "metadata": {
        "id": "kXy4mnLxIomo",
        "colab_type": "code",
        "colab": {}
      },
      "source": [
        "# Tipe data List\n",
        "angka = [1, 2, 3]\n",
        "type(angka)"
      ],
      "execution_count": 0,
      "outputs": []
    },
    {
      "cell_type": "code",
      "metadata": {
        "id": "_5BnivWRLP7_",
        "colab_type": "code",
        "colab": {}
      },
      "source": [
        "# Tipe Data Numpy Array\n",
        "import numpy as np\n",
        "\n",
        "angka_array = np.array(angka)\n",
        "type(angka_array)"
      ],
      "execution_count": 0,
      "outputs": []
    },
    {
      "cell_type": "code",
      "metadata": {
        "id": "7lXzV5DnMDzk",
        "colab_type": "code",
        "colab": {}
      },
      "source": [
        "# Tipe Data Pandas Dataframe\n",
        "import pandas as pd\n",
        "\n",
        "pandas_df = pd.DataFrame(angka)\n",
        "type(pandas_df)"
      ],
      "execution_count": 0,
      "outputs": []
    },
    {
      "cell_type": "markdown",
      "metadata": {
        "colab_type": "text",
        "id": "Venld_A_Uj1O"
      },
      "source": [
        "**Praktek**"
      ]
    },
    {
      "cell_type": "code",
      "metadata": {
        "id": "3dhS8R44VDRk",
        "colab_type": "code",
        "colab": {}
      },
      "source": [
        "# List didalam list\n",
        "team = [['Apriandito', 22, 'Wonogiri'], \n",
        "        ['Dian', 23, 'Medan' ],\n",
        "        ['Rosidi', 24, 'Madura'] ]"
      ],
      "execution_count": 0,
      "outputs": []
    },
    {
      "cell_type": "code",
      "metadata": {
        "id": "zI_FM7-kVeZZ",
        "colab_type": "code",
        "colab": {}
      },
      "source": [
        "# Covert list diatas menjadi dataframe dengan nama df_team lalu print"
      ],
      "execution_count": 0,
      "outputs": []
    },
    {
      "cell_type": "code",
      "metadata": {
        "id": "phLwygdVVkC2",
        "colab_type": "code",
        "colab": {}
      },
      "source": [
        "# Cek tipe data team dan df_team menggunakan fungsi type()"
      ],
      "execution_count": 0,
      "outputs": []
    },
    {
      "cell_type": "markdown",
      "metadata": {
        "id": "fIyegF6lNyKU",
        "colab_type": "text"
      },
      "source": [
        "## Fungsi"
      ]
    },
    {
      "cell_type": "code",
      "metadata": {
        "id": "hbUf1ty8O8r8",
        "colab_type": "code",
        "colab": {}
      },
      "source": [
        "# Membuat fungsi untuk menghitung luas lingkaran\n",
        "def luaslingkaran(r):\n",
        "  return 3.14 * r * r"
      ],
      "execution_count": 0,
      "outputs": []
    },
    {
      "cell_type": "code",
      "metadata": {
        "id": "o7xl6gIRPTTm",
        "colab_type": "code",
        "colab": {}
      },
      "source": [
        "# Memnggunakan fungsi yang sudah dibuat\n",
        "lingkaran = luaslingkaran(10)\n",
        "print(lingkaran)"
      ],
      "execution_count": 0,
      "outputs": []
    },
    {
      "cell_type": "code",
      "metadata": {
        "id": "qLYKPvRDNxh_",
        "colab_type": "code",
        "colab": {}
      },
      "source": [
        "# Mengitung jari-jari lingkaran\n",
        "r = float(input(\"Masukkan panjang jari-jari lingkaran: \"))\n",
        "luas = luaslingkaran(r)\n",
        "print(\"Luas lingkaran adalah : \"+ str(luas))"
      ],
      "execution_count": 0,
      "outputs": []
    },
    {
      "cell_type": "markdown",
      "metadata": {
        "id": "IcVjTc2oURGf",
        "colab_type": "text"
      },
      "source": [
        "**Praktek**"
      ]
    },
    {
      "cell_type": "code",
      "metadata": {
        "id": "lwj5bL_QT6uT",
        "colab_type": "code",
        "colab": {}
      },
      "source": [
        "# Buatlah fungsi untuk menghitung luas persegi"
      ],
      "execution_count": 0,
      "outputs": []
    },
    {
      "cell_type": "code",
      "metadata": {
        "id": "4Sm-4_9EVzW3",
        "colab_type": "code",
        "colab": {}
      },
      "source": [
        "# Gunakan fungsi yang sudah dibuat"
      ],
      "execution_count": 0,
      "outputs": []
    },
    {
      "cell_type": "markdown",
      "metadata": {
        "id": "thjhAgwjQcjf",
        "colab_type": "text"
      },
      "source": [
        "## Loop"
      ]
    },
    {
      "cell_type": "markdown",
      "metadata": {
        "id": "DkArHYiGRNyR",
        "colab_type": "text"
      },
      "source": [
        "### For Loop"
      ]
    },
    {
      "cell_type": "code",
      "metadata": {
        "id": "Whasc7e5YGon",
        "colab_type": "code",
        "colab": {}
      },
      "source": [
        "# List tahun lahir\n",
        "tahun_lahir = [1998, 1997, 1996]"
      ],
      "execution_count": 0,
      "outputs": []
    },
    {
      "cell_type": "code",
      "metadata": {
        "id": "1n5qNwOgamHs",
        "colab_type": "code",
        "colab": {}
      },
      "source": [
        "# Output yang diharapkan\n",
        "print(tahun_lahir[0])\n",
        "print(tahun_lahir[1])\n",
        "print(tahun_lahir[2])"
      ],
      "execution_count": 0,
      "outputs": []
    },
    {
      "cell_type": "code",
      "metadata": {
        "id": "3jyXdivzdwW8",
        "colab_type": "code",
        "colab": {}
      },
      "source": [
        "# For Loop\n",
        "for i in range(len(tahun_lahir)):\n",
        "  print(tahun_lahir[i])"
      ],
      "execution_count": 0,
      "outputs": []
    },
    {
      "cell_type": "markdown",
      "metadata": {
        "colab_type": "text",
        "id": "kjNwh6HSWB74"
      },
      "source": [
        "**Praktek**"
      ]
    },
    {
      "cell_type": "code",
      "metadata": {
        "id": "Zco9dISHb3XQ",
        "colab_type": "code",
        "colab": {}
      },
      "source": [
        "def hitungusia(tahun_lahir):\n",
        "  return 2020 - tahun_lahir"
      ],
      "execution_count": 0,
      "outputs": []
    },
    {
      "cell_type": "code",
      "metadata": {
        "id": "7YVP9LWRbxbp",
        "colab_type": "code",
        "colab": {}
      },
      "source": [
        "for tahun in tahun_lahir:\n",
        "  usia = hitungusia(tahun)\n",
        "  print(usia)"
      ],
      "execution_count": 0,
      "outputs": []
    },
    {
      "cell_type": "markdown",
      "metadata": {
        "id": "Odc24DolRP4I",
        "colab_type": "text"
      },
      "source": [
        "### While Loop"
      ]
    },
    {
      "cell_type": "code",
      "metadata": {
        "id": "0z-yIfuHRS1x",
        "colab_type": "code",
        "colab": {}
      },
      "source": [
        "# While Loop\n",
        "while ulang < 20:\n",
        "    print(\"perulangan ke-\" + str(ulang))\n",
        "    ulang += 1  "
      ],
      "execution_count": 0,
      "outputs": []
    }
  ]
}