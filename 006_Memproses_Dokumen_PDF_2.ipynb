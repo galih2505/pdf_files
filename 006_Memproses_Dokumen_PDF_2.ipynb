{
  "nbformat": 4,
  "nbformat_minor": 0,
  "metadata": {
    "colab": {
      "name": "006_Memproses Dokumen PDF_2",
      "provenance": [],
      "toc_visible": true,
      "authorship_tag": "ABX9TyNaQDTGiDLZ2bPiipWLuPJ5",
      "include_colab_link": true
    },
    "kernelspec": {
      "name": "python3",
      "display_name": "Python 3"
    }
  },
  "cells": [
    {
      "cell_type": "markdown",
      "metadata": {
        "id": "view-in-github",
        "colab_type": "text"
      },
      "source": [
        "<a href=\"https://colab.research.google.com/github/dhitology/pdf/blob/master/006_Memproses_Dokumen_PDF_2.ipynb\" target=\"_parent\"><img src=\"https://colab.research.google.com/assets/colab-badge.svg\" alt=\"Open In Colab\"/></a>"
      ]
    },
    {
      "cell_type": "markdown",
      "metadata": {
        "id": "jIgD8kh_McZZ",
        "colab_type": "text"
      },
      "source": [
        "*Muhammad Apriandito Arya Saputra - 2020*\n",
        "\n",
        "\n",
        "---\n",
        "\n"
      ]
    },
    {
      "cell_type": "markdown",
      "metadata": {
        "colab_type": "text",
        "id": "dDRxpmiAVlHf"
      },
      "source": [
        "# Memproses Dokumen PDF"
      ]
    },
    {
      "cell_type": "markdown",
      "metadata": {
        "id": "0ZVtS7qbkVyF",
        "colab_type": "text"
      },
      "source": [
        "## Mengambil data dari Github"
      ]
    },
    {
      "cell_type": "code",
      "metadata": {
        "id": "iT2kKNyJbFlq",
        "colab_type": "code",
        "colab": {}
      },
      "source": [
        "# Clone Library and Data from Github\n",
        "! git clone https://github.com/dhitology/pdf"
      ],
      "execution_count": 0,
      "outputs": []
    },
    {
      "cell_type": "code",
      "metadata": {
        "id": "fUTyy4BocjUt",
        "colab_type": "code",
        "colab": {}
      },
      "source": [
        "# Current Working Directory\n",
        "import os\n",
        "os.getcwd()"
      ],
      "execution_count": 0,
      "outputs": []
    },
    {
      "cell_type": "code",
      "metadata": {
        "id": "eQxoNAMvbGI2",
        "colab_type": "code",
        "colab": {}
      },
      "source": [
        "# Set Working Directory\n",
        "os.chdir('pdf/journal')"
      ],
      "execution_count": 0,
      "outputs": []
    },
    {
      "cell_type": "code",
      "metadata": {
        "id": "w2cJZ6oRcpBS",
        "colab_type": "code",
        "colab": {}
      },
      "source": [
        "# Lokasi working directory saat ini\n",
        "wd = os.getcwd()\n",
        "print(wd)"
      ],
      "execution_count": 0,
      "outputs": []
    },
    {
      "cell_type": "markdown",
      "metadata": {
        "id": "8PazkCeIQni3",
        "colab_type": "text"
      },
      "source": [
        "### Mengambil Informasi Text dan menyimpan sebagai file .csv"
      ]
    },
    {
      "cell_type": "code",
      "metadata": {
        "id": "vQ7U-5qiQkLE",
        "colab_type": "code",
        "colab": {}
      },
      "source": [
        "# Install PDF Miner Six\n",
        "! pip install pdfminer.six"
      ],
      "execution_count": 0,
      "outputs": []
    },
    {
      "cell_type": "code",
      "metadata": {
        "id": "5yyUbTZ7RytP",
        "colab_type": "code",
        "colab": {}
      },
      "source": [
        "# Import\n",
        "import pdfminer"
      ],
      "execution_count": 0,
      "outputs": []
    },
    {
      "cell_type": "code",
      "metadata": {
        "id": "pR6Jg4xMVK4F",
        "colab_type": "code",
        "colab": {}
      },
      "source": [
        "from io import StringIO\n",
        "\n",
        "from pdfminer.converter import TextConverter\n",
        "from pdfminer.layout import LAParams\n",
        "from pdfminer.pdfdocument import PDFDocument\n",
        "from pdfminer.pdfinterp import PDFResourceManager, PDFPageInterpreter\n",
        "from pdfminer.pdfpage import PDFPage\n",
        "from pdfminer.pdfparser import PDFParser\n",
        "\n",
        "output_string = StringIO()\n",
        "with open('emerald/emerald_2.pdf', 'rb') as in_file:\n",
        "    parser = PDFParser(in_file)\n",
        "    doc = PDFDocument(parser)\n",
        "    rsrcmgr = PDFResourceManager()\n",
        "    device = TextConverter(rsrcmgr, output_string, laparams=LAParams())\n",
        "    interpreter = PDFPageInterpreter(rsrcmgr, device)\n",
        "    for page in PDFPage.create_pages(doc):\n",
        "        interpreter.process_page(page)\n",
        "\n",
        "text = output_string.getvalue()"
      ],
      "execution_count": 0,
      "outputs": []
    },
    {
      "cell_type": "code",
      "metadata": {
        "id": "L-Y6HsNXXY1v",
        "colab_type": "code",
        "colab": {}
      },
      "source": [
        "print(text)"
      ],
      "execution_count": 0,
      "outputs": []
    },
    {
      "cell_type": "code",
      "metadata": {
        "id": "HB9hl6kocCpW",
        "colab_type": "code",
        "colab": {}
      },
      "source": [
        "text = text.lower()\n",
        "print(text)"
      ],
      "execution_count": 0,
      "outputs": []
    },
    {
      "cell_type": "code",
      "metadata": {
        "id": "KOacewpqX9d7",
        "colab_type": "code",
        "colab": {}
      },
      "source": [
        "# Split\n",
        "text_split = text.split(sep = \"\\n\")\n",
        "print(text_split)"
      ],
      "execution_count": 0,
      "outputs": []
    },
    {
      "cell_type": "code",
      "metadata": {
        "id": "Ne2tH0OQZrin",
        "colab_type": "code",
        "colab": {}
      },
      "source": [
        "# Import Pandas\n",
        "import pandas as pd\n",
        "\n",
        "# Buat sebagai Pandas Dataframe\n",
        "df = pd.DataFrame(text_split, columns =['text'])"
      ],
      "execution_count": 0,
      "outputs": []
    },
    {
      "cell_type": "code",
      "metadata": {
        "id": "qOOK_G3ZaM0T",
        "colab_type": "code",
        "colab": {}
      },
      "source": [
        "# lihat 10 Baris data pertama\n",
        "df.head(10)"
      ],
      "execution_count": 0,
      "outputs": []
    },
    {
      "cell_type": "code",
      "metadata": {
        "id": "Nqau4jZabo7L",
        "colab_type": "code",
        "colab": {}
      },
      "source": [
        "# Export sebagai file .csv\n",
        "df.to_csv('text_jurnal',sep=';', encoding='utf-8-sig')"
      ],
      "execution_count": 0,
      "outputs": []
    }
  ]
}