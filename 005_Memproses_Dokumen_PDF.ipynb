{
  "nbformat": 4,
  "nbformat_minor": 0,
  "metadata": {
    "colab": {
      "name": "005_Memproses Dokumen PDF",
      "provenance": [],
      "toc_visible": true,
      "authorship_tag": "ABX9TyPrQ6zgZZfAHDJQJSIdQH+8",
      "include_colab_link": true
    },
    "kernelspec": {
      "name": "python3",
      "display_name": "Python 3"
    }
  },
  "cells": [
    {
      "cell_type": "markdown",
      "metadata": {
        "id": "view-in-github",
        "colab_type": "text"
      },
      "source": [
        "<a href=\"https://colab.research.google.com/github/dhitology/pdf/blob/master/005_Memproses_Dokumen_PDF.ipynb\" target=\"_parent\"><img src=\"https://colab.research.google.com/assets/colab-badge.svg\" alt=\"Open In Colab\"/></a>"
      ]
    },
    {
      "cell_type": "markdown",
      "metadata": {
        "id": "jIgD8kh_McZZ",
        "colab_type": "text"
      },
      "source": [
        "*Muhammad Apriandito Arya Saputra - 2020*\n",
        "\n",
        "\n",
        "---\n",
        "\n"
      ]
    },
    {
      "cell_type": "markdown",
      "metadata": {
        "id": "bGzu9IpDkJ77",
        "colab_type": "text"
      },
      "source": [
        "# Memproses Dokumen PDF"
      ]
    },
    {
      "cell_type": "markdown",
      "metadata": {
        "id": "0ZVtS7qbkVyF",
        "colab_type": "text"
      },
      "source": [
        "## Mengambil data dari Github"
      ]
    },
    {
      "cell_type": "code",
      "metadata": {
        "id": "iT2kKNyJbFlq",
        "colab_type": "code",
        "colab": {}
      },
      "source": [
        "# Clone Library and Data from Github\n",
        "! git clone https://github.com/dhitology/pdf"
      ],
      "execution_count": 0,
      "outputs": []
    },
    {
      "cell_type": "code",
      "metadata": {
        "id": "fUTyy4BocjUt",
        "colab_type": "code",
        "colab": {}
      },
      "source": [
        "# Current Working Directory\n",
        "import os\n",
        "os.getcwd()"
      ],
      "execution_count": 0,
      "outputs": []
    },
    {
      "cell_type": "code",
      "metadata": {
        "id": "eQxoNAMvbGI2",
        "colab_type": "code",
        "colab": {}
      },
      "source": [
        "# Set Working Directory\n",
        "os.chdir('pdf/journal/elsevier')"
      ],
      "execution_count": 0,
      "outputs": []
    },
    {
      "cell_type": "code",
      "metadata": {
        "id": "w2cJZ6oRcpBS",
        "colab_type": "code",
        "colab": {}
      },
      "source": [
        "wd = os.getcwd()\n",
        "print(wd)"
      ],
      "execution_count": 0,
      "outputs": []
    },
    {
      "cell_type": "markdown",
      "metadata": {
        "id": "tPJZW2F6bUv4",
        "colab_type": "text"
      },
      "source": [
        "## Mengambil Informasi Author dari beberapa dokumen PDF dengan PyPDF2"
      ]
    },
    {
      "cell_type": "code",
      "metadata": {
        "id": "Q43bDaSXbUVz",
        "colab_type": "code",
        "colab": {}
      },
      "source": [
        "# Install Library\n",
        "! pip install PyPDF2"
      ],
      "execution_count": 0,
      "outputs": []
    },
    {
      "cell_type": "code",
      "metadata": {
        "id": "6gbI8sz7bKGn",
        "colab_type": "code",
        "colab": {}
      },
      "source": [
        "# Import Library\n",
        "import PyPDF2"
      ],
      "execution_count": 0,
      "outputs": []
    },
    {
      "cell_type": "code",
      "metadata": {
        "id": "qktJS2zHf4jK",
        "colab_type": "code",
        "colab": {}
      },
      "source": [
        "# Mengambil Nama Dokumen PDF Dalam direktori\n",
        "pdfname = []\n",
        "for filename in os.listdir(\".\"):\n",
        "  if filename.endswith(\".pdf\"):\n",
        "    pdfname.append(filename)\n",
        "\n",
        "# Print \n",
        "print(pdfname)"
      ],
      "execution_count": 0,
      "outputs": []
    },
    {
      "cell_type": "code",
      "metadata": {
        "id": "VkWts6ygi8nV",
        "colab_type": "code",
        "colab": {}
      },
      "source": [
        "# Membuat list kosong\n",
        "author =[]"
      ],
      "execution_count": 0,
      "outputs": []
    },
    {
      "cell_type": "code",
      "metadata": {
        "id": "3ETLpxtLidIT",
        "colab_type": "code",
        "colab": {}
      },
      "source": [
        "# Looping untuk mengambil penulis dari setiap dokumen\n",
        "for filename in pdfname:\n",
        "  pdfFileObj = open(filename,\"rb\")\n",
        "  journal = PyPDF2.PdfFileReader(pdfFileObj)\n",
        "  journal_info =  journal.getDocumentInfo()\n",
        "  author.append(journal_info.author)"
      ],
      "execution_count": 0,
      "outputs": []
    },
    {
      "cell_type": "code",
      "metadata": {
        "id": "uSY_Pl3miyj6",
        "colab_type": "code",
        "colab": {}
      },
      "source": [
        "print(author)"
      ],
      "execution_count": 0,
      "outputs": []
    },
    {
      "cell_type": "markdown",
      "metadata": {
        "id": "X8h9pwb8RJ5L",
        "colab_type": "text"
      },
      "source": [
        "**Praktek**"
      ]
    },
    {
      "cell_type": "code",
      "metadata": {
        "id": "6fJaeRTwRSdX",
        "colab_type": "code",
        "colab": {}
      },
      "source": [
        "# Mengambil Informasi Keyword dari Jurnal SAGE"
      ],
      "execution_count": 0,
      "outputs": []
    },
    {
      "cell_type": "code",
      "metadata": {
        "id": "yfeOIAeeRjjI",
        "colab_type": "code",
        "colab": {}
      },
      "source": [
        "# Mengambil Informasi Keyword dari Jurnal Emerald"
      ],
      "execution_count": 0,
      "outputs": []
    }
  ]
}